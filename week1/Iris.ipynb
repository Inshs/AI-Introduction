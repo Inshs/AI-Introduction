{
  "nbformat": 4,
  "nbformat_minor": 0,
  "metadata": {
    "colab": {
      "provenance": []
    },
    "kernelspec": {
      "name": "python3",
      "display_name": "Python 3"
    },
    "language_info": {
      "name": "python"
    }
  },
  "cells": [
    {
      "cell_type": "markdown",
      "source": [
        "**라이브러리 설치**"
      ],
      "metadata": {
        "id": "XrqGkfh_E8Yq"
      }
    },
    {
      "cell_type": "code",
      "source": [
        "import pandas as pd\n",
        "from sklearn.model_selection import train_test_split\n",
        "from sklearn.preprocessing import LabelEncoder, StandardScaler\n",
        "from sklearn.tree import DecisionTreeClassifier\n",
        "from sklearn.ensemble import RandomForestClassifier\n",
        "from sklearn.svm import SVC\n",
        "from sklearn.linear_model import LogisticRegression\n",
        "from sklearn.metrics import accuracy_score"
      ],
      "metadata": {
        "id": "3Rd9AnWvE_jY"
      },
      "execution_count": null,
      "outputs": []
    },
    {
      "cell_type": "markdown",
      "source": [
        "**데이터 로드**"
      ],
      "metadata": {
        "id": "PfMSI_lHFCYd"
      }
    },
    {
      "cell_type": "code",
      "source": [
        "file_path = r\"C:/Users/82104/Desktop/인공지능개론/iris.csv\"\n",
        "df = pd.read_csv(file_path)\n",
        "\n",
        "# 'Name' 열을 숫자로 변환\n",
        "label_encoder = LabelEncoder()\n",
        "df['Name'] = label_encoder.fit_transform(df['Name'])\n",
        "\n",
        "# 입력 데이터 (X)와 정답 데이터 (y) 분리\n",
        "X = df.drop(columns=['Name'])  # 특성 데이터\n",
        "y = df['Name']  # 라벨 데이터\n",
        "\n",
        "# 학습 및 테스트 데이터 분할 (80% 학습, 20% 테스트)\n",
        "X_train, X_test, y_train, y_test = train_test_split(X, y, test_size=0.2, random_state=42)"
      ],
      "metadata": {
        "id": "n5Q8wV2qFGmJ"
      },
      "execution_count": null,
      "outputs": []
    },
    {
      "cell_type": "markdown",
      "source": [
        "**데이터 정규화**"
      ],
      "metadata": {
        "id": "OyLEqitkFKT4"
      }
    },
    {
      "cell_type": "code",
      "source": [
        "scaler = StandardScaler()\n",
        "X_train = scaler.fit_transform(X_train)\n",
        "X_test = scaler.transform(X_test)"
      ],
      "metadata": {
        "id": "F3CFkFfvFPb6"
      },
      "execution_count": null,
      "outputs": []
    },
    {
      "cell_type": "markdown",
      "source": [
        "**각 모델 학습 및 평가**"
      ],
      "metadata": {
        "id": "aqa55Sv4FR48"
      }
    },
    {
      "cell_type": "markdown",
      "source": [
        "**1. 의사결정나무(Decision Tree)**"
      ],
      "metadata": {
        "id": "dIDt0BC-FjZy"
      }
    },
    {
      "cell_type": "code",
      "source": [],
      "metadata": {
        "id": "Niurx__WGI4D"
      },
      "execution_count": null,
      "outputs": []
    },
    {
      "cell_type": "code",
      "source": [
        "dt_model = DecisionTreeClassifier()\n",
        "dt_model.fit(X_train, y_train)\n",
        "dt_pred = dt_model.predict(X_test)\n",
        "dt_accuracy = accuracy_score(y_test, dt_pred)\n",
        "print(f\"Decision Tree Accuracy: {dt_accuracy:.4f}\")"
      ],
      "metadata": {
        "id": "tDCs1tVTFs82"
      },
      "execution_count": null,
      "outputs": []
    },
    {
      "cell_type": "markdown",
      "source": [
        "**2. 랜덤 포레스트**"
      ],
      "metadata": {
        "id": "kP0ZlbCGFzVP"
      }
    },
    {
      "cell_type": "code",
      "source": [
        "rf_model = RandomForestClassifier()\n",
        "rf_model.fit(X_train, y_train)\n",
        "rf_pred = rf_model.predict(X_test)\n",
        "rf_accuracy = accuracy_score(y_test, rf_pred)\n",
        "print(f\"Random Forest Accuracy: {rf_accuracy:.4f}\")"
      ],
      "metadata": {
        "id": "8ZkuJYYbF3Zw"
      },
      "execution_count": null,
      "outputs": []
    },
    {
      "cell_type": "markdown",
      "source": [
        "**3. 서포트 벡터 머신(SVM)**"
      ],
      "metadata": {
        "id": "6WmUSXVQF5jG"
      }
    },
    {
      "cell_type": "code",
      "source": [
        "svm_model = SVC()\n",
        "svm_model.fit(X_train, y_train)\n",
        "svm_pred = svm_model.predict(X_test)\n",
        "svm_accuracy = accuracy_score(y_test, svm_pred)\n",
        "print(f\"SVM Accuracy: {svm_accuracy:.4f}\")"
      ],
      "metadata": {
        "id": "yyIxAxCSF_Eo"
      },
      "execution_count": null,
      "outputs": []
    },
    {
      "cell_type": "markdown",
      "source": [
        "**4. 로지스틱 회귀(Logistic Regression)**\n",
        "\n"
      ],
      "metadata": {
        "id": "TImymNwbGArQ"
      }
    },
    {
      "cell_type": "code",
      "source": [
        "lr_model = LogisticRegression()\n",
        "lr_model.fit(X_train, y_train)\n",
        "lr_pred = lr_model.predict(X_test)\n",
        "lr_accuracy = accuracy_score(y_test, lr_pred)\n",
        "print(f\"Logistic Regression Accuracy: {lr_accuracy:.4f}\")"
      ],
      "metadata": {
        "id": "OguvvQdrGSlt"
      },
      "execution_count": null,
      "outputs": []
    },
    {
      "cell_type": "markdown",
      "source": [
        "**출력 결과**"
      ],
      "metadata": {
        "id": "GbtPZ7iKGXYX"
      }
    },
    {
      "cell_type": "markdown",
      "source": [
        "\n",
        "\n",
        "1. Decision Tree Accuracy: 1.0000\n",
        "2. Random Forest Accuracy: 1.0000\n",
        "3. SVM Accuracy: 1.0000\n",
        "4. Logistic Regression Accuracy: 1.0000\n"
      ],
      "metadata": {
        "id": "Iao4iJoeGbt5"
      }
    },
    {
      "cell_type": "markdown",
      "source": [
        "**전체 코드**"
      ],
      "metadata": {
        "id": "sjaGEkF1Gxva"
      }
    },
    {
      "cell_type": "code",
      "source": [
        "import pandas as pd\n",
        "from sklearn.model_selection import train_test_split\n",
        "from sklearn.preprocessing import LabelEncoder, StandardScaler\n",
        "from sklearn.tree import DecisionTreeClassifier\n",
        "from sklearn.ensemble import RandomForestClassifier\n",
        "from sklearn.svm import SVC\n",
        "from sklearn.linear_model import LogisticRegression\n",
        "from sklearn.metrics import accuracy_score\n",
        "\n",
        "file_path = \"C:/Users/82104/Desktop/인공지능개론/iris.csv\"\n",
        "df = pd.read_csv(file_path)\n",
        "\n",
        "label_encoder = LabelEncoder()\n",
        "df['Name'] = label_encoder.fit_transform(df['Name'])\n",
        "\n",
        "X = df.drop(columns=['Name'])\n",
        "y = df['Name']\n",
        "\n",
        "X_train, X_test, y_train, y_test = train_test_split(X, y, test_size=0.2, random_state=42)\n",
        "\n",
        "scaler = StandardScaler()\n",
        "X_train = scaler.fit_transform(X_train)\n",
        "X_test = scaler.transform(X_test)\n",
        "\n",
        "dt_model = DecisionTreeClassifier()\n",
        "dt_model.fit(X_train, y_train)\n",
        "dt_pred = dt_model.predict(X_test)\n",
        "dt_accuracy = accuracy_score(y_test, dt_pred)\n",
        "print(f\"Decision Tree Accuracy: {dt_accuracy:.4f}\")\n",
        "\n",
        "rf_model = RandomForestClassifier()\n",
        "rf_model.fit(X_train, y_train)\n",
        "rf_pred = rf_model.predict(X_test)\n",
        "rf_accuracy = accuracy_score(y_test, rf_pred)\n",
        "print(f\"Random Forest Accuracy: {rf_accuracy:.4f}\")\n",
        "\n",
        "svm_model = SVC()\n",
        "svm_model.fit(X_train, y_train)\n",
        "svm_pred = svm_model.predict(X_test)\n",
        "svm_accuracy = accuracy_score(y_test, svm_pred)\n",
        "print(f\"SVM Accuracy: {svm_accuracy:.4f}\")\n",
        "\n",
        "lr_model = LogisticRegression()\n",
        "lr_model.fit(X_train, y_train)\n",
        "lr_pred = lr_model.predict(X_test)\n",
        "lr_accuracy = accuracy_score(y_test, lr_pred)\n",
        "print(f\"Logistic Regression Accuracy: {lr_accuracy:.4f}\")"
      ],
      "metadata": {
        "id": "D8Bocg9WGzzv"
      },
      "execution_count": null,
      "outputs": []
    }
  ]
}